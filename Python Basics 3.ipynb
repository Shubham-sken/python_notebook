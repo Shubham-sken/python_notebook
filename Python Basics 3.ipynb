{
 "cells": [
  {
   "attachments": {},
   "cell_type": "markdown",
   "metadata": {},
   "source": [
    "## 13. Functions\n",
    "- ### Defining a function"
   ]
  },
  {
   "cell_type": "code",
   "execution_count": 5,
   "metadata": {},
   "outputs": [
    {
     "name": "stdout",
     "output_type": "stream",
     "text": [
      "The number is odd\n",
      "The number is even\n"
     ]
    }
   ],
   "source": [
    "num =6\n",
    "def checker(num):\n",
    "    if num%2 ==0:\n",
    "        print(\"The number is even\")\n",
    "    else:\n",
    "        print(\"The number is odd\")\n",
    "\n",
    "checker(5)\n",
    "checker(6)\n"
   ]
  },
  {
   "attachments": {},
   "cell_type": "markdown",
   "metadata": {},
   "source": [
    "- ### Paramters & Arguments"
   ]
  },
  {
   "cell_type": "code",
   "execution_count": 7,
   "metadata": {},
   "outputs": [
    {
     "name": "stdout",
     "output_type": "stream",
     "text": [
      "6\n",
      "20\n"
     ]
    }
   ],
   "source": [
    "def sumPrinter(num_array):\n",
    "    sum = 0\n",
    "    for i in num_array:\n",
    "        sum += i\n",
    "    print(sum)\n",
    "myArr =[2,4,6,8]\n",
    "sumPrinter([1,2,3])\n",
    "sumPrinter(myArr)"
   ]
  },
  {
   "cell_type": "code",
   "execution_count": 8,
   "metadata": {},
   "outputs": [
    {
     "name": "stdout",
     "output_type": "stream",
     "text": [
      "6\n"
     ]
    },
    {
     "ename": "TypeError",
     "evalue": "multiply() missing 1 required positional argument: 'c'",
     "output_type": "error",
     "traceback": [
      "\u001b[1;31m---------------------------------------------------------------------------\u001b[0m",
      "\u001b[1;31mTypeError\u001b[0m                                 Traceback (most recent call last)",
      "\u001b[1;32mc:\\Users\\SALESKEN\\new upskill learning\\python_notebook-1\\Python Basics 3.ipynb Cell 5\u001b[0m line \u001b[0;36m5\n\u001b[0;32m      <a href='vscode-notebook-cell:/c%3A/Users/SALESKEN/new%20upskill%20learning/python_notebook-1/Python%20Basics%203.ipynb#X42sZmlsZQ%3D%3D?line=1'>2</a>\u001b[0m     \u001b[39mprint\u001b[39m(a\u001b[39m*\u001b[39mb\u001b[39m*\u001b[39mc)\n\u001b[0;32m      <a href='vscode-notebook-cell:/c%3A/Users/SALESKEN/new%20upskill%20learning/python_notebook-1/Python%20Basics%203.ipynb#X42sZmlsZQ%3D%3D?line=3'>4</a>\u001b[0m multiply(\u001b[39m1\u001b[39m,\u001b[39m2\u001b[39m,\u001b[39m3\u001b[39m)\n\u001b[1;32m----> <a href='vscode-notebook-cell:/c%3A/Users/SALESKEN/new%20upskill%20learning/python_notebook-1/Python%20Basics%203.ipynb#X42sZmlsZQ%3D%3D?line=4'>5</a>\u001b[0m multiply(\u001b[39m1\u001b[39;49m,\u001b[39m2\u001b[39;49m)\n\u001b[0;32m      <a href='vscode-notebook-cell:/c%3A/Users/SALESKEN/new%20upskill%20learning/python_notebook-1/Python%20Basics%203.ipynb#X42sZmlsZQ%3D%3D?line=5'>6</a>\u001b[0m multiply(\u001b[39m1\u001b[39m,\u001b[39m2\u001b[39m,\u001b[39m3\u001b[39m,\u001b[39m4\u001b[39m)\n",
      "\u001b[1;31mTypeError\u001b[0m: multiply() missing 1 required positional argument: 'c'"
     ]
    }
   ],
   "source": [
    "def multiply(a,b,c):\n",
    "    print(a*b*c)\n",
    "\n",
    "multiply(1,2,3)\n",
    "multiply(1,2)\n",
    "multiply(1,2,3,4)"
   ]
  },
  {
   "attachments": {},
   "cell_type": "markdown",
   "metadata": {},
   "source": [
    "- ### Default Parameters"
   ]
  },
  {
   "cell_type": "code",
   "execution_count": 10,
   "metadata": {},
   "outputs": [
    {
     "name": "stdout",
     "output_type": "stream",
     "text": [
      "I live at 105, bellandur, banglore, karnataka, India\n",
      "I live at 105, bellandur, banglore, karnataka, Australia\n"
     ]
    }
   ],
   "source": [
    "def printAddress(doorNum, street, city, state, country =\"India\"):\n",
    "    print(f\"I live at {doorNum}, {street}, {city}, {state}, {country}\")\n",
    "\n",
    "printAddress(105,\"bellandur\",\"banglore\",\"karnataka\")\n",
    "printAddress(105,\"bellandur\",\"banglore\",\"karnataka\",\"Australia\")"
   ]
  },
  {
   "attachments": {},
   "cell_type": "markdown",
   "metadata": {},
   "source": [
    "- ### `return`"
   ]
  },
  {
   "cell_type": "code",
   "execution_count": 11,
   "metadata": {},
   "outputs": [
    {
     "name": "stdout",
     "output_type": "stream",
     "text": [
      "6\n"
     ]
    }
   ],
   "source": [
    "def multiply2(a,b,c):\n",
    "    return a*b*c\n",
    "val = multiply2(1,2,3)\n",
    "print(val)"
   ]
  },
  {
   "cell_type": "code",
   "execution_count": 12,
   "metadata": {},
   "outputs": [
    {
     "ename": "ZeroDivisionError",
     "evalue": "division by zero",
     "output_type": "error",
     "traceback": [
      "\u001b[1;31m---------------------------------------------------------------------------\u001b[0m",
      "\u001b[1;31mZeroDivisionError\u001b[0m                         Traceback (most recent call last)",
      "\u001b[1;32mc:\\Users\\SALESKEN\\new upskill learning\\python_notebook-1\\Python Basics 3.ipynb Cell 10\u001b[0m line \u001b[0;36m4\n\u001b[0;32m      <a href='vscode-notebook-cell:/c%3A/Users/SALESKEN/new%20upskill%20learning/python_notebook-1/Python%20Basics%203.ipynb#X43sZmlsZQ%3D%3D?line=1'>2</a>\u001b[0m \u001b[39mdef\u001b[39;00m \u001b[39mdivideByZero\u001b[39m(num):\n\u001b[0;32m      <a href='vscode-notebook-cell:/c%3A/Users/SALESKEN/new%20upskill%20learning/python_notebook-1/Python%20Basics%203.ipynb#X43sZmlsZQ%3D%3D?line=2'>3</a>\u001b[0m     \u001b[39mreturn\u001b[39;00m num\u001b[39m/\u001b[39m\u001b[39m0\u001b[39m\n\u001b[1;32m----> <a href='vscode-notebook-cell:/c%3A/Users/SALESKEN/new%20upskill%20learning/python_notebook-1/Python%20Basics%203.ipynb#X43sZmlsZQ%3D%3D?line=3'>4</a>\u001b[0m divideByZero(\u001b[39m2\u001b[39;49m)\n",
      "\u001b[1;32mc:\\Users\\SALESKEN\\new upskill learning\\python_notebook-1\\Python Basics 3.ipynb Cell 10\u001b[0m line \u001b[0;36m3\n\u001b[0;32m      <a href='vscode-notebook-cell:/c%3A/Users/SALESKEN/new%20upskill%20learning/python_notebook-1/Python%20Basics%203.ipynb#X43sZmlsZQ%3D%3D?line=1'>2</a>\u001b[0m \u001b[39mdef\u001b[39;00m \u001b[39mdivideByZero\u001b[39m(num):\n\u001b[1;32m----> <a href='vscode-notebook-cell:/c%3A/Users/SALESKEN/new%20upskill%20learning/python_notebook-1/Python%20Basics%203.ipynb#X43sZmlsZQ%3D%3D?line=2'>3</a>\u001b[0m     \u001b[39mreturn\u001b[39;00m num\u001b[39m/\u001b[39;49m\u001b[39m0\u001b[39;49m\n",
      "\u001b[1;31mZeroDivisionError\u001b[0m: division by zero"
     ]
    }
   ],
   "source": [
    "# try-except\n",
    "def divideByZero(num):\n",
    "    return num/0\n",
    "divideByZero(2)\n",
    "print(\"execute me please\")\n"
   ]
  },
  {
   "cell_type": "code",
   "execution_count": 14,
   "metadata": {},
   "outputs": [
    {
     "name": "stdout",
     "output_type": "stream",
     "text": [
      "something happened wrong\n"
     ]
    }
   ],
   "source": [
    "try:\n",
    "    divideByZero(2)\n",
    "except:\n",
    "    print(\"something happened wrong\")\n"
   ]
  },
  {
   "cell_type": "code",
   "execution_count": 15,
   "metadata": {},
   "outputs": [
    {
     "name": "stdout",
     "output_type": "stream",
     "text": [
      "something happened wrong\n",
      "This will print regardless\n"
     ]
    }
   ],
   "source": [
    "# finally\n",
    "\n",
    "try:\n",
    "    divideByZero(2)\n",
    "except ZeroDivisionError:\n",
    "    print(\"something happened wrong\")\n",
    "except Exception as e:\n",
    "    print(e)\n",
    "finally:\n",
    "    print(\"This will print regardless\")"
   ]
  },
  {
   "attachments": {},
   "cell_type": "markdown",
   "metadata": {},
   "source": [
    "- ### Scope"
   ]
  },
  {
   "cell_type": "code",
   "execution_count": 20,
   "metadata": {},
   "outputs": [
    {
     "name": "stdout",
     "output_type": "stream",
     "text": [
      "3\n",
      "120\n"
     ]
    }
   ],
   "source": [
    "import math as m\n",
    "from math import floor, factorial\n",
    "num = 3.14\n",
    "print(floor(num))\n",
    "print(factorial(5))"
   ]
  },
  {
   "cell_type": "code",
   "execution_count": 21,
   "metadata": {},
   "outputs": [
    {
     "ename": "SyntaxError",
     "evalue": "expected 'except' or 'finally' block (3525892596.py, line 9)",
     "output_type": "error",
     "traceback": [
      "\u001b[1;36m  Cell \u001b[1;32mIn[21], line 9\u001b[1;36m\u001b[0m\n\u001b[1;33m    exception Exception as e:\u001b[0m\n\u001b[1;37m    ^\u001b[0m\n\u001b[1;31mSyntaxError\u001b[0m\u001b[1;31m:\u001b[0m expected 'except' or 'finally' block\n"
     ]
    }
   ],
   "source": [
    "def factorial(num):\n",
    "    try:\n",
    "        if num < 0:\n",
    "            raise Exception(\"No negative numbers please\")\n",
    "        if num ==0 and num == 1:\n",
    "            return 1\n",
    "        else:\n",
    "            return num * factorial(num-1)\n",
    "    exception Exception as e:\n",
    "    print(e)\n",
    "\n",
    "factorial(5)"
   ]
  },
  {
   "attachments": {},
   "cell_type": "markdown",
   "metadata": {},
   "source": [
    "# OOPS Concepts\n",
    "## 1. Objects\n",
    "An entity that has state and behavior is known as an object e.g., chair, bike, marker, pen, table, car, etc. It can be physical or logical.<br>\n",
    "An object has three characteristics:<br>\n",
    "- **State**: represents the data (value) of an object.<br>\n",
    "- **Behavior**: represents the behavior (functionality) of an object such as deposit, withdraw, etc.<br>\n",
    "- **Identity**: An object identity is typically implemented via a unique ID. The value of the ID is not visible to the external user. However, it is used internally by the JVM to identify each object uniquely.<br><br>\n",
    "## 2. Class\n",
    "A class is a collection of objects. A class contains the blueprints or the prototype from which the objects are being created. It is a logical entity that contains some attributes and methods. <br>\n",
    "- ### Writing a Class\n",
    "\n"
   ]
  },
  {
   "cell_type": "code",
   "execution_count": 27,
   "metadata": {},
   "outputs": [
    {
     "name": "stdout",
     "output_type": "stream",
     "text": [
      "0 True 0\n",
      "2\n"
     ]
    }
   ],
   "source": [
    "class Vehicle:\n",
    "    tyre  = 0\n",
    "    engine = True\n",
    "    windows = 0\n",
    "\n",
    "myVehicle = Vehicle()\n",
    "type(myVehicle)\n",
    "print(myVehicle.tyre, myVehicle.engine, myVehicle.windows)\n",
    "\n",
    "myVehicle.tyre = 2\n",
    "print(myVehicle.tyre)"
   ]
  },
  {
   "cell_type": "markdown",
   "metadata": {},
   "source": [
    "- ### Declaring a function"
   ]
  },
  {
   "cell_type": "code",
   "execution_count": 28,
   "metadata": {},
   "outputs": [
    {
     "name": "stdout",
     "output_type": "stream",
     "text": [
      "False\n",
      "True\n",
      "False\n"
     ]
    }
   ],
   "source": [
    "class Vehicle:\n",
    "    tyre  = 0\n",
    "    engine = True\n",
    "    windows = 0\n",
    "    moving = False\n",
    "\n",
    "    def move(self):\n",
    "        self.moving = True\n",
    "    def stop(self):\n",
    "        self.moving = False\n",
    "\n",
    "myVehicle = Vehicle()\n",
    "print(myVehicle.moving)\n",
    "myVehicle.move()\n",
    "print(myVehicle.moving)\n",
    "myVehicle.stop()\n",
    "print(myVehicle.moving)"
   ]
  },
  {
   "cell_type": "code",
   "execution_count": null,
   "metadata": {},
   "outputs": [],
   "source": [
    "print(myVehicle.moving)\n",
    "Vehicle.move(myVehicle)"
   ]
  },
  {
   "attachments": {},
   "cell_type": "markdown",
   "metadata": {},
   "source": [
    "- ### `__init__(self)` function"
   ]
  },
  {
   "cell_type": "code",
   "execution_count": 36,
   "metadata": {},
   "outputs": [
    {
     "ename": "AttributeError",
     "evalue": "'TwoWheeler' object has no attribute 'tyre'",
     "output_type": "error",
     "traceback": [
      "\u001b[1;31m---------------------------------------------------------------------------\u001b[0m",
      "\u001b[1;31mAttributeError\u001b[0m                            Traceback (most recent call last)",
      "\u001b[1;32mc:\\Users\\SALESKEN\\new upskill learning\\python_notebook-1\\Python Basics 3.ipynb Cell 22\u001b[0m line \u001b[0;36m1\n\u001b[0;32m      <a href='vscode-notebook-cell:/c%3A/Users/SALESKEN/new%20upskill%20learning/python_notebook-1/Python%20Basics%203.ipynb#X21sZmlsZQ%3D%3D?line=8'>9</a>\u001b[0m         \u001b[39mself\u001b[39m\u001b[39m.\u001b[39mmoving \u001b[39m=\u001b[39m \u001b[39mTrue\u001b[39;00m\n\u001b[0;32m     <a href='vscode-notebook-cell:/c%3A/Users/SALESKEN/new%20upskill%20learning/python_notebook-1/Python%20Basics%203.ipynb#X21sZmlsZQ%3D%3D?line=10'>11</a>\u001b[0m my_2_wheeler \u001b[39m=\u001b[39m TwoWheeler()\n\u001b[1;32m---> <a href='vscode-notebook-cell:/c%3A/Users/SALESKEN/new%20upskill%20learning/python_notebook-1/Python%20Basics%203.ipynb#X21sZmlsZQ%3D%3D?line=11'>12</a>\u001b[0m \u001b[39mprint\u001b[39m(my_2_wheeler\u001b[39m.\u001b[39;49mtyre, my_2_wheeler\u001b[39m.\u001b[39mengine, my_2_wheeler\u001b[39m.\u001b[39mwindows)\n",
      "\u001b[1;31mAttributeError\u001b[0m: 'TwoWheeler' object has no attribute 'tyre'"
     ]
    }
   ],
   "source": [
    "class TwoWheeler:\n",
    "    def _init_(self):\n",
    "        self.tyre = 2\n",
    "        self.engine = True\n",
    "        self.windows = 0\n",
    "        self.move()\n",
    "    \n",
    "    def move(self):\n",
    "        self.moving = True\n",
    "    \n",
    "my_2_wheeler = TwoWheeler()\n",
    "print(my_2_wheeler.tyre, my_2_wheeler.engine, my_2_wheeler.windows)\n"
   ]
  },
  {
   "cell_type": "code",
   "execution_count": 42,
   "metadata": {},
   "outputs": [
    {
     "name": "stdout",
     "output_type": "stream",
     "text": [
      "6 False 4\n",
      "10 True 5\n"
     ]
    }
   ],
   "source": [
    "class CustomeVehicle:\n",
    "    def __init__(self, wheels = 10, engine=True, windows = 1):\n",
    "        self.tyres = wheels\n",
    "        self.engine = engine\n",
    "        self.windows = windows\n",
    "\n",
    "my_vehicle = CustomeVehicle(6, False, 4)\n",
    "print(my_vehicle.tyres, my_vehicle.engine, my_vehicle.windows)\n",
    "weird_vehicle = CustomeVehicle(wheels=10, windows=5)\n",
    "print(weird_vehicle.tyres, weird_vehicle.engine, weird_vehicle.windows)\n"
   ]
  },
  {
   "cell_type": "code",
   "execution_count": null,
   "metadata": {},
   "outputs": [],
   "source": []
  },
  {
   "attachments": {},
   "cell_type": "markdown",
   "metadata": {},
   "source": [
    "## 3. Inheritance\n",
    "**Inheritance** is the capability of one class to derive or inherit the properties from another class. The class that derives properties is called the derived class or child class and the class from which the properties are being derived is called the base class or parent class.<br>\n",
    "The benefits of inheritance are: <br>\n",
    "- It represents real-world relationships well.\n",
    "- It provides the reusability of a code. We don’t have to write the same code again and again. Also, it allows us to add more features to a class without modifying it.\n",
    "- It is transitive in nature, which means that if class B inherits from another class A, then all the subclasses of B would automatically inherit from class A.<br>\n",
    "\n",
    "### Types of Inheritance <br>\n",
    "**Single Inheritance**:\n",
    "Single-level inheritance enables a derived class to inherit characteristics from a single-parent class.\n",
    "\n",
    "**Multilevel Inheritance**:\n",
    "Multi-level inheritance enables a derived class to inherit properties from an immediate parent class which in turn inherits properties from his parent class.\n",
    "\n",
    "**Hierarchical Inheritance**:\n",
    "Hierarchical level inheritance enables more than one derived class to inherit properties from a parent class.\n",
    "\n",
    "**Multiple Inheritance**:\n",
    "Multiple level inheritance enables one derived class to inherit properties from more than one base class.\n",
    "\n",
    "\n",
    "- ### Class Inheritance"
   ]
  },
  {
   "cell_type": "code",
   "execution_count": 43,
   "metadata": {},
   "outputs": [
    {
     "name": "stdout",
     "output_type": "stream",
     "text": [
      "10\n",
      "True\n",
      "1\n",
      "is moving: True\n"
     ]
    }
   ],
   "source": [
    "class CustomeVehicle:\n",
    "    def __init__(self, wheels = 10, engine=True, windows = 1):\n",
    "        self.tyres = wheels\n",
    "        self.engine = engine\n",
    "        self.windows = windows\n",
    "\n",
    "    def move(self):\n",
    "        self.moving = True\n",
    "\n",
    "\n",
    "class Car(CustomeVehicle):\n",
    "    def show_properties(self):\n",
    "        print(self.tyres)\n",
    "        print(self.engine)\n",
    "        print(self.windows)\n",
    "\n",
    "\n",
    "my_car = Car()\n",
    "my_car.show_properties()\n",
    "my_car.move()\n",
    "print(\"is moving:\",my_car.moving)\n",
    "        "
   ]
  },
  {
   "cell_type": "markdown",
   "metadata": {},
   "source": [
    "- ### `super()` function"
   ]
  },
  {
   "cell_type": "code",
   "execution_count": 45,
   "metadata": {},
   "outputs": [
    {
     "name": "stdout",
     "output_type": "stream",
     "text": [
      "100\n",
      "True\n",
      "None\n",
      "False\n",
      "is moving: True\n"
     ]
    }
   ],
   "source": [
    "class CustomeVehicle:\n",
    "    def __init__(self, wheels = 10, engine=True, windows = 1):\n",
    "        self.tyres = wheels\n",
    "        self.engine = engine\n",
    "        self.windows = windows\n",
    "\n",
    "    def move(self):\n",
    "        self.moving = True\n",
    "\n",
    "\n",
    "class Car(CustomeVehicle):\n",
    "    def __init__(self,wheels = 100, engine = True, windows =None, AC = False):\n",
    "        super().__init__(wheels, engine, windows)\n",
    "        self.AC = AC \n",
    "\n",
    "    def show_properties(self):\n",
    "        print(self.tyres)\n",
    "        print(self.engine)\n",
    "        print(self.windows)\n",
    "        print(self.AC)\n",
    "\n",
    "\n",
    "my_car = Car()\n",
    "my_car.show_properties()\n",
    "my_car.move()\n",
    "print(\"is moving:\",my_car.moving)"
   ]
  },
  {
   "cell_type": "markdown",
   "metadata": {},
   "source": [
    "- ### Adding more parameters to child class"
   ]
  },
  {
   "cell_type": "code",
   "execution_count": null,
   "metadata": {},
   "outputs": [],
   "source": []
  },
  {
   "attachments": {},
   "cell_type": "markdown",
   "metadata": {},
   "source": [
    "## 4. Polymorphism\n",
    "**Polymorphism**  refers to the use of a single type entity (method, operator or object) to represent different types in different scenarios. <br>\n",
    "*poly*: many, *moprhism*: form <br>\n",
    "***Example***: the `+` operator can be used on both int and string data types. <br>\n",
    "Similarly `len()` can be used on strings and data structures.<br>\n",
    "*Python does not support function overloading.*<br>\n",
    "### Implementing polymorphism with inherited classes"
   ]
  },
  {
   "cell_type": "code",
   "execution_count": null,
   "metadata": {},
   "outputs": [],
   "source": []
  },
  {
   "attachments": {},
   "cell_type": "markdown",
   "metadata": {},
   "source": [
    "## 5. Abstraction\n",
    "**Abstraction** in Programming is about hiding unwanted details while showing most essential information. <br>\n",
    "Eg: The `range()` function gives us a list of numbers but we are not aware of its implementation or underlying code.<br><br>\n",
    "### Using `__` to hide variables"
   ]
  },
  {
   "cell_type": "code",
   "execution_count": null,
   "metadata": {},
   "outputs": [],
   "source": []
  },
  {
   "attachments": {},
   "cell_type": "markdown",
   "metadata": {},
   "source": [
    "## 6. Encapsulation\n",
    "**Encapsulation** describes the idea of wrapping data and the methods that work on data within one unit. This puts restrictions on accessing variables and methods directly and can prevent the accidental modification of data. To prevent accidental change, an object’s variable can only be changed by an object’s method. <br><br>\n",
    "### Using `__`, getters, setters for encapsulation."
   ]
  },
  {
   "cell_type": "code",
   "execution_count": null,
   "metadata": {},
   "outputs": [],
   "source": []
  }
 ],
 "metadata": {
  "kernelspec": {
   "display_name": "Python 3",
   "language": "python",
   "name": "python3"
  },
  "language_info": {
   "codemirror_mode": {
    "name": "ipython",
    "version": 3
   },
   "file_extension": ".py",
   "mimetype": "text/x-python",
   "name": "python",
   "nbconvert_exporter": "python",
   "pygments_lexer": "ipython3",
   "version": "3.10.6"
  },
  "orig_nbformat": 4
 },
 "nbformat": 4,
 "nbformat_minor": 2
}
