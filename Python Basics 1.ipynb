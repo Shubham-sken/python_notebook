{
 "cells": [
  {
   "attachments": {},
   "cell_type": "markdown",
   "metadata": {},
   "source": [
    "# Python Basics\n",
    "## Guiding Principle of Python's Design"
   ]
  },
  {
   "cell_type": "code",
   "execution_count": 1,
   "metadata": {},
   "outputs": [
    {
     "name": "stdout",
     "output_type": "stream",
     "text": [
      "The Zen of Python, by Tim Peters\n",
      "\n",
      "Beautiful is better than ugly.\n",
      "Explicit is better than implicit.\n",
      "Simple is better than complex.\n",
      "Complex is better than complicated.\n",
      "Flat is better than nested.\n",
      "Sparse is better than dense.\n",
      "Readability counts.\n",
      "Special cases aren't special enough to break the rules.\n",
      "Although practicality beats purity.\n",
      "Errors should never pass silently.\n",
      "Unless explicitly silenced.\n",
      "In the face of ambiguity, refuse the temptation to guess.\n",
      "There should be one-- and preferably only one --obvious way to do it.\n",
      "Although that way may not be obvious at first unless you're Dutch.\n",
      "Now is better than never.\n",
      "Although never is often better than *right* now.\n",
      "If the implementation is hard to explain, it's a bad idea.\n",
      "If the implementation is easy to explain, it may be a good idea.\n",
      "Namespaces are one honking great idea -- let's do more of those!\n"
     ]
    }
   ],
   "source": [
    "import this"
   ]
  },
  {
   "attachments": {},
   "cell_type": "markdown",
   "metadata": {},
   "source": [
    "## 1. Variable Assignment and Basic Data Types\n",
    "Variable naming rules: \n",
    "1. Variable names are case sensitive\n",
    "2. Variable must start with a character or underscore\n",
    "3. Variable names can only contain alphanumeric characters and underscores\n",
    "4. Variable name cannot be a python keyword\n",
    "\n",
    "- ### Integers"
   ]
  },
  {
   "cell_type": "code",
   "execution_count": 2,
   "metadata": {},
   "outputs": [
    {
     "name": "stdout",
     "output_type": "stream",
     "text": [
      "0 4\n"
     ]
    }
   ],
   "source": [
    "var_1 = 0\n",
    "var_2 = 1\n",
    "var_3 = 4\n",
    "print(var_1,var_3)"
   ]
  },
  {
   "attachments": {},
   "cell_type": "markdown",
   "metadata": {},
   "source": [
    "- ### Strings"
   ]
  },
  {
   "cell_type": "code",
   "execution_count": 4,
   "metadata": {},
   "outputs": [
    {
     "name": "stdout",
     "output_type": "stream",
     "text": [
      "python\n",
      "java\n",
      "vs_code\n",
      "GitHub\n"
     ]
    }
   ],
   "source": [
    "string_1 = \"python\"\n",
    "string_2 = \"vs_code\"\n",
    "string_3 = \"java\"\n",
    "string_4 = \"GitHub\"\n",
    "print(string_1)\n",
    "print(string_3)\n",
    "print(string_2)\n",
    "print(string_4)"
   ]
  },
  {
   "attachments": {},
   "cell_type": "markdown",
   "metadata": {},
   "source": [
    "- ### Float"
   ]
  },
  {
   "cell_type": "code",
   "execution_count": 6,
   "metadata": {},
   "outputs": [
    {
     "name": "stdout",
     "output_type": "stream",
     "text": [
      "2.34 3.1415\n"
     ]
    }
   ],
   "source": [
    "float_ex = 2.34\n",
    "float_2 = 3.1415\n",
    "print(float_ex, float_2)"
   ]
  },
  {
   "attachments": {},
   "cell_type": "markdown",
   "metadata": {},
   "source": [
    "- ### Booleans"
   ]
  },
  {
   "cell_type": "code",
   "execution_count": 7,
   "metadata": {},
   "outputs": [
    {
     "name": "stdout",
     "output_type": "stream",
     "text": [
      "True False\n"
     ]
    }
   ],
   "source": [
    "true_bool = True\n",
    "false_bool = False\n",
    "print(true_bool, false_bool)"
   ]
  },
  {
   "attachments": {},
   "cell_type": "markdown",
   "metadata": {},
   "source": [
    "- ### Multiline Assignment"
   ]
  },
  {
   "cell_type": "code",
   "execution_count": 8,
   "metadata": {},
   "outputs": [
    {
     "name": "stdout",
     "output_type": "stream",
     "text": [
      "1 multiline 3.14\n"
     ]
    }
   ],
   "source": [
    "var_num, var_string, var_float = 1, \"multiline\", 3.14\n",
    "print(var_num, var_string, var_float)"
   ]
  },
  {
   "cell_type": "code",
   "execution_count": 10,
   "metadata": {},
   "outputs": [
    {
     "name": "stdout",
     "output_type": "stream",
     "text": [
      "1 multiline 3.14\n",
      "2 multiline2 3.15\n"
     ]
    }
   ],
   "source": [
    "var_num, var_string, var_float = 1, \"multiline\", 3.14\n",
    "print(var_num, var_string, var_float)\n",
    "var_num, var_string, var_float = 2, \"multiline2\", 3.15\n",
    "print(var_num, var_string, var_float)"
   ]
  },
  {
   "attachments": {},
   "cell_type": "markdown",
   "metadata": {},
   "source": [
    "## 2. Comments"
   ]
  },
  {
   "cell_type": "code",
   "execution_count": 14,
   "metadata": {},
   "outputs": [
    {
     "name": "stdout",
     "output_type": "stream",
     "text": [
      "3\n"
     ]
    },
    {
     "data": {
      "text/plain": [
       "'\\nmulti line comment\\n'"
      ]
     },
     "execution_count": 14,
     "metadata": {},
     "output_type": "execute_result"
    }
   ],
   "source": [
    "# this is my first comment\n",
    "change_var = 3\n",
    "# change_var = 9\n",
    "print(change_var)\n",
    "\n",
    "\n",
    "\"\"\"\n",
    "multi line comment\n",
    "\"\"\"\n"
   ]
  },
  {
   "attachments": {},
   "cell_type": "markdown",
   "metadata": {},
   "source": [
    "## 3. Python `type()` function"
   ]
  },
  {
   "cell_type": "code",
   "execution_count": 15,
   "metadata": {},
   "outputs": [
    {
     "name": "stdout",
     "output_type": "stream",
     "text": [
      "<class 'int'>\n",
      "<class 'str'>\n",
      "<class 'float'>\n"
     ]
    }
   ],
   "source": [
    "print(type(var_num))\n",
    "print(type(var_string))\n",
    "print(type(var_float))"
   ]
  },
  {
   "attachments": {},
   "cell_type": "markdown",
   "metadata": {},
   "source": [
    "## 4. Type Casting"
   ]
  },
  {
   "cell_type": "code",
   "execution_count": 21,
   "metadata": {},
   "outputs": [
    {
     "name": "stdout",
     "output_type": "stream",
     "text": [
      "55\n",
      "<class 'int'>\n",
      "434243\n",
      "<class 'str'>\n"
     ]
    }
   ],
   "source": [
    "var_string1 = \"45\"\n",
    "var_int1 = int(var_string1)\n",
    "print(var_int1+10)\n",
    "print(type(var_int1))\n",
    "\n",
    "var_int2 = 434243\n",
    "var_string2 = str(var_int2)\n",
    "print(var_string2)\n",
    "print(type(var_string2))"
   ]
  },
  {
   "attachments": {},
   "cell_type": "markdown",
   "metadata": {},
   "source": [
    "## 5. Strings"
   ]
  },
  {
   "attachments": {},
   "cell_type": "markdown",
   "metadata": {},
   "source": [
    "- ### Multiline Strings"
   ]
  },
  {
   "cell_type": "code",
   "execution_count": 22,
   "metadata": {},
   "outputs": [
    {
     "name": "stdout",
     "output_type": "stream",
     "text": [
      "this is a multi line \n",
      "String\n",
      "123\n",
      "\n"
     ]
    }
   ],
   "source": [
    "multiline_string = \"\"\"this is a multi line \n",
    "String\n",
    "123\n",
    "\"\"\"\n",
    "print(multiline_string)"
   ]
  },
  {
   "attachments": {},
   "cell_type": "markdown",
   "metadata": {},
   "source": [
    "- ### String Indexing"
   ]
  },
  {
   "cell_type": "code",
   "execution_count": 27,
   "metadata": {},
   "outputs": [
    {
     "name": "stdout",
     "output_type": "stream",
     "text": [
      "t s  \n",
      "\n",
      "\n",
      "\n",
      "\n",
      "this i\n",
      "this is a \n",
      " a multi line \n",
      "String\n",
      "123\n"
     ]
    }
   ],
   "source": [
    "print(multiline_string[0],multiline_string[3],multiline_string[9])\n",
    "print(multiline_string[-1])\n",
    "print(multiline_string[-5])\n",
    "\n",
    "\n",
    "print(multiline_string[0:6])\n",
    "#start_index inclusive : ending_index exclusive\n",
    "print(multiline_string[:10])\n",
    "print(multiline_string[7:-1])\n",
    "\n",
    "#starting_index (inclusive)"
   ]
  },
  {
   "attachments": {},
   "cell_type": "markdown",
   "metadata": {},
   "source": [
    "- ### String functions `len(), lower(), strip(), replace()`"
   ]
  },
  {
   "cell_type": "code",
   "execution_count": 32,
   "metadata": {},
   "outputs": [
    {
     "name": "stdout",
     "output_type": "stream",
     "text": [
      "33\n",
      "this is a multi line \n",
      "String\n",
      "123\n",
      "\n",
      "Lower: this is a multi line \n",
      "string\n",
      "123\n",
      "\n",
      "uper: THIS IS A MULTI LINE \n",
      "STRING\n",
      "123\n",
      "\n",
      "Replaced: thYYs YYs a multYY lYYne \n",
      "StrYYng\n",
      "123\n",
      "\n"
     ]
    }
   ],
   "source": [
    "print(len(multiline_string))\n",
    "print(multiline_string)\n",
    "print(\"Lower:\",multiline_string.lower())\n",
    "print(\"uper:\",multiline_string.upper())\n",
    "print(\"Replaced:\",multiline_string.replace(\"i\",\"YY\"))"
   ]
  },
  {
   "attachments": {},
   "cell_type": "markdown",
   "metadata": {},
   "source": [
    "- ### String Slicing"
   ]
  },
  {
   "cell_type": "code",
   "execution_count": null,
   "metadata": {},
   "outputs": [],
   "source": []
  },
  {
   "attachments": {},
   "cell_type": "markdown",
   "metadata": {},
   "source": [
    "- ### String Concatenation"
   ]
  },
  {
   "cell_type": "code",
   "execution_count": 36,
   "metadata": {},
   "outputs": [
    {
     "name": "stdout",
     "output_type": "stream",
     "text": [
      "python with vs_code\n"
     ]
    }
   ],
   "source": [
    "concat_string = string_1+\" with \"+string_2\n",
    "print(concat_string)"
   ]
  },
  {
   "attachments": {},
   "cell_type": "markdown",
   "metadata": {},
   "source": [
    "## 6. Comparison , Identity, Membership Operators\n",
    "`>=, ==, =<, in, not in, is, is not`"
   ]
  },
  {
   "cell_type": "code",
   "execution_count": 47,
   "metadata": {},
   "outputs": [
    {
     "name": "stdout",
     "output_type": "stream",
     "text": [
      "0 1 4\n",
      "False\n",
      "True\n",
      "True\n",
      "True\n",
      "False\n",
      "True\n",
      "False\n",
      "True\n",
      "True\n"
     ]
    }
   ],
   "source": [
    "print(var_1,var_2,var_3)\n",
    "print(var_1>var_2)\n",
    "print(var_2<var_3)\n",
    "print(var_1 != var_3)\n",
    "print(var_1 == var_1)\n",
    "print(\"python\" == \"Python\")\n",
    "print(\"python\" == \"Python\".lower())\n",
    "\n",
    "\n",
    "print(\"p\" in \"Python\")\n",
    "print(\"p\" in \"Python\".lower())\n",
    "\n",
    "print(\"e\" not in \"Python\")"
   ]
  },
  {
   "attachments": {},
   "cell_type": "markdown",
   "metadata": {},
   "source": [
    "## 7. Arithmetic and Assignment Operators"
   ]
  },
  {
   "cell_type": "code",
   "execution_count": 51,
   "metadata": {},
   "outputs": [
    {
     "name": "stdout",
     "output_type": "stream",
     "text": [
      "455 400 2250 90.0 0\n",
      "3.3333333333333335\n",
      "3\n",
      "wordwordword\n"
     ]
    }
   ],
   "source": [
    "\n",
    "number = 450\n",
    "print(\n",
    "    number + 5,\n",
    "    number - 50,\n",
    "    number * 5,\n",
    "    number / 5,\n",
    "    number % 5\n",
    ")\n",
    "\n",
    "print(30/9)\n",
    "print(30//9)\n",
    "\n",
    "\n",
    "ex_string = \"word\"\n",
    "print(\n",
    "    ex_string*3\n",
    ")"
   ]
  },
  {
   "cell_type": "code",
   "execution_count": 53,
   "metadata": {},
   "outputs": [
    {
     "name": "stdout",
     "output_type": "stream",
     "text": [
      "12\n",
      "24\n",
      "12\n",
      "1.0\n",
      "1.0\n",
      "python with vs_codeand jupyter\n",
      "python with vs_codeand jupyter and jupyter\n",
      "wordwordwordwordwordwordwordwordword\n"
     ]
    }
   ],
   "source": [
    "num_eg = 12\n",
    "print(num_eg)\n",
    "num_eg += 12\n",
    "print(num_eg)\n",
    "num_eg -= 12\n",
    "print(num_eg)\n",
    "num_eg /= 12\n",
    "print(num_eg)\n",
    "num_eg %= 12\n",
    "print(num_eg)\n",
    "\n",
    "print(concat_string)\n",
    "concat_string += \" and jupyter\"\n",
    "print(concat_string)\n",
    "ex_string *= 3\n",
    "print(ex_string)"
   ]
  },
  {
   "attachments": {},
   "cell_type": "markdown",
   "metadata": {},
   "source": [
    "## 8. Lists\n",
    "- ### Assignment"
   ]
  },
  {
   "cell_type": "code",
   "execution_count": 56,
   "metadata": {},
   "outputs": [
    {
     "name": "stdout",
     "output_type": "stream",
     "text": [
      "1\n",
      "2\n",
      "shubham\n"
     ]
    }
   ],
   "source": [
    "mylist = [1,2,3,4,\"shubham\"]\n",
    "\n",
    "print(mylist[0])\n",
    "print(mylist[1])\n",
    "print(mylist[4])\n",
    "\n"
   ]
  },
  {
   "cell_type": "code",
   "execution_count": 57,
   "metadata": {},
   "outputs": [
    {
     "name": "stdout",
     "output_type": "stream",
     "text": [
      "[-1, 2, 3, 4, 'shubham']\n"
     ]
    }
   ],
   "source": [
    "mylist[0] = -1\n",
    "print(mylist)"
   ]
  },
  {
   "cell_type": "code",
   "execution_count": 61,
   "metadata": {},
   "outputs": [
    {
     "data": {
      "text/plain": [
       "[34, True]"
      ]
     },
     "execution_count": 61,
     "metadata": {},
     "output_type": "execute_result"
    }
   ],
   "source": [
    "typesList = [\"abc\", 34, True, 3.14, 42]\n",
    "typesList[1:3]"
   ]
  },
  {
   "cell_type": "code",
   "execution_count": 62,
   "metadata": {},
   "outputs": [
    {
     "name": "stdout",
     "output_type": "stream",
     "text": [
      "[0, 1, 2, 3, 4, 5, 6, 7, 8, 9, 10, 11, 12, 13, 14, 15, 16, 17, 18, 19]\n"
     ]
    }
   ],
   "source": [
    "numlist = list(range(20))\n",
    "\n",
    "print(numlist)"
   ]
  },
  {
   "attachments": {},
   "cell_type": "markdown",
   "metadata": {},
   "source": [
    "- ### List Index and Slicing"
   ]
  },
  {
   "cell_type": "code",
   "execution_count": 63,
   "metadata": {},
   "outputs": [
    {
     "name": "stdout",
     "output_type": "stream",
     "text": [
      "[0, 1, 2, 3, 4]\n",
      "[0, 1, 2, 3, 4, 5, 6, 7, 8, 9, 10, 11, 12, 13, 14, 15, 16, 17, 18, 19]\n",
      "[1, 3, 5, 7, 9, 11, 13, 15]\n"
     ]
    }
   ],
   "source": [
    "print(numlist[:5])\n",
    "print(numlist[:])\n",
    "print(numlist[1:16:2])"
   ]
  },
  {
   "cell_type": "code",
   "execution_count": 65,
   "metadata": {},
   "outputs": [
    {
     "name": "stdout",
     "output_type": "stream",
     "text": [
      "['a', 'b', 'c']\n"
     ]
    }
   ],
   "source": [
    "list1 = ['a','b','c']\n",
    "list2 = list1\n",
    "print(list2)"
   ]
  },
  {
   "cell_type": "code",
   "execution_count": 66,
   "metadata": {},
   "outputs": [
    {
     "name": "stdout",
     "output_type": "stream",
     "text": [
      "['e', 'b', 'c']\n",
      "['e', 'b', 'c']\n"
     ]
    }
   ],
   "source": [
    "list2[0] = 'e'\n",
    "print(list1)\n",
    "print(list2)"
   ]
  },
  {
   "cell_type": "code",
   "execution_count": 67,
   "metadata": {},
   "outputs": [
    {
     "name": "stdout",
     "output_type": "stream",
     "text": [
      "['e', 'b', 'c']\n",
      "['e', 'b', 'c']\n",
      "['f', 'b', 'c']\n"
     ]
    }
   ],
   "source": [
    "list3 = list2[:]\n",
    "print(list3)\n",
    "list3[0] = 'f'\n",
    "print(list2)\n",
    "print(list3)"
   ]
  },
  {
   "attachments": {},
   "cell_type": "markdown",
   "metadata": {},
   "source": [
    "- ### List functions `insert(), append(), extend(). remove(), sort()`"
   ]
  },
  {
   "cell_type": "code",
   "execution_count": 71,
   "metadata": {},
   "outputs": [
    {
     "name": "stdout",
     "output_type": "stream",
     "text": [
      "['Apple', 'Banana', 'Pineapple', 'Orange', 'Grapes']\n",
      "['Apple', 'Banana', 'Pineapple', 'Pears', 'Orange', 'Grapes']\n",
      "['Apple', 'Banana', 'Pineapple', 'Pears', 'Orange', 'Grapes', 'chikoo', 'Lychee']\n"
     ]
    }
   ],
   "source": [
    "fruits = ['Apple', 'Banana', 'Pineapple','Orange']\n",
    "fruits.append('Grapes')\n",
    "print(fruits)\n",
    "fruits.insert(3,'Pears')\n",
    "print(fruits)\n",
    "fruits.extend([\"chikoo\",'Lychee'])\n",
    "print(fruits)\n"
   ]
  },
  {
   "cell_type": "code",
   "execution_count": 72,
   "metadata": {},
   "outputs": [
    {
     "name": "stdout",
     "output_type": "stream",
     "text": [
      "[0, 1, 2, 3, 4, 5, 6, 7, 8, 9, 10, 11, 12, 13, 14, 15, 16, 17, 18, 19, 20, 21, 22, 23, 24, 25, 26, 27, 28, 29]\n"
     ]
    }
   ],
   "source": [
    "numlist.extend(range(20,30))\n",
    "print(numlist)"
   ]
  },
  {
   "cell_type": "code",
   "execution_count": 73,
   "metadata": {},
   "outputs": [
    {
     "data": {
      "text/plain": [
       "['Apple',\n",
       " 'Banana',\n",
       " 'Pineapple',\n",
       " 'Pears',\n",
       " 'Orange',\n",
       " 'Grapes',\n",
       " 'chikoo',\n",
       " 'Lychee']"
      ]
     },
     "execution_count": 73,
     "metadata": {},
     "output_type": "execute_result"
    }
   ],
   "source": [
    "fruits"
   ]
  },
  {
   "cell_type": "code",
   "execution_count": 74,
   "metadata": {},
   "outputs": [],
   "source": [
    "fruits.remove(\"Pears\")\n"
   ]
  },
  {
   "cell_type": "code",
   "execution_count": 75,
   "metadata": {},
   "outputs": [
    {
     "data": {
      "text/plain": [
       "['Apple', 'Banana', 'Pineapple', 'Orange', 'Grapes', 'chikoo', 'Lychee']"
      ]
     },
     "execution_count": 75,
     "metadata": {},
     "output_type": "execute_result"
    }
   ],
   "source": [
    "fruits"
   ]
  },
  {
   "cell_type": "code",
   "execution_count": null,
   "metadata": {},
   "outputs": [],
   "source": []
  },
  {
   "attachments": {},
   "cell_type": "markdown",
   "metadata": {},
   "source": [
    "- ### Copying a list with `copy()`"
   ]
  },
  {
   "cell_type": "code",
   "execution_count": 76,
   "metadata": {},
   "outputs": [],
   "source": [
    "fruits2 = fruits.copy()"
   ]
  },
  {
   "cell_type": "code",
   "execution_count": 77,
   "metadata": {},
   "outputs": [
    {
     "name": "stdout",
     "output_type": "stream",
     "text": [
      "['Apple', 'Banana', 'Pineapple', 'Orange', 'Grapes', 'chikoo', 'Lychee']\n",
      "['Apple', 'Mango', 'Pineapple', 'Orange', 'Grapes', 'chikoo', 'Lychee']\n"
     ]
    }
   ],
   "source": [
    "fruits2[1] = \"Mango\"\n",
    "print(fruits)\n",
    "print(fruits2)"
   ]
  },
  {
   "attachments": {},
   "cell_type": "markdown",
   "metadata": {},
   "source": [
    "## 9. Tuples\n",
    "- ### Assignment and Unpacking"
   ]
  },
  {
   "cell_type": "code",
   "execution_count": 78,
   "metadata": {},
   "outputs": [
    {
     "data": {
      "text/plain": [
       "(1, 2, 3)"
      ]
     },
     "execution_count": 78,
     "metadata": {},
     "output_type": "execute_result"
    }
   ],
   "source": [
    "tuple1 =(1,2,3)\n",
    "tuple1"
   ]
  },
  {
   "cell_type": "code",
   "execution_count": 79,
   "metadata": {},
   "outputs": [
    {
     "ename": "TypeError",
     "evalue": "'tuple' object does not support item assignment",
     "output_type": "error",
     "traceback": [
      "\u001b[1;31m---------------------------------------------------------------------------\u001b[0m",
      "\u001b[1;31mTypeError\u001b[0m                                 Traceback (most recent call last)",
      "\u001b[1;32mc:\\Users\\SALESKEN\\new upskill learning\\python_notebook-1\\Python Basics 1.ipynb Cell 58\u001b[0m line \u001b[0;36m2\n\u001b[0;32m      <a href='vscode-notebook-cell:/c%3A/Users/SALESKEN/new%20upskill%20learning/python_notebook-1/Python%20Basics%201.ipynb#X61sZmlsZQ%3D%3D?line=0'>1</a>\u001b[0m tuple1[\u001b[39m2\u001b[39m]\n\u001b[1;32m----> <a href='vscode-notebook-cell:/c%3A/Users/SALESKEN/new%20upskill%20learning/python_notebook-1/Python%20Basics%201.ipynb#X61sZmlsZQ%3D%3D?line=1'>2</a>\u001b[0m tuple1[\u001b[39m0\u001b[39;49m] \u001b[39m=\u001b[39m \u001b[39m4\u001b[39m\n",
      "\u001b[1;31mTypeError\u001b[0m: 'tuple' object does not support item assignment"
     ]
    }
   ],
   "source": [
    "tuple1[2]\n",
    "tuple1[0] = 4"
   ]
  },
  {
   "cell_type": "code",
   "execution_count": 80,
   "metadata": {},
   "outputs": [
    {
     "data": {
      "text/plain": [
       "(0, 1, 2, 3, 4)"
      ]
     },
     "execution_count": 80,
     "metadata": {},
     "output_type": "execute_result"
    }
   ],
   "source": [
    "num_tuple = tuple(range(5))\n",
    "num_tuple"
   ]
  },
  {
   "cell_type": "code",
   "execution_count": 81,
   "metadata": {},
   "outputs": [
    {
     "data": {
      "text/plain": [
       "[0, 1, 2, 3, 4]"
      ]
     },
     "execution_count": 81,
     "metadata": {},
     "output_type": "execute_result"
    }
   ],
   "source": [
    "num_list2 = list(num_tuple)\n",
    "num_list2"
   ]
  },
  {
   "cell_type": "code",
   "execution_count": 86,
   "metadata": {},
   "outputs": [
    {
     "data": {
      "text/plain": [
       "(0,\n",
       " 1,\n",
       " 2,\n",
       " 3,\n",
       " 4,\n",
       " 5,\n",
       " 6,\n",
       " 7,\n",
       " 8,\n",
       " 9,\n",
       " 10,\n",
       " 11,\n",
       " 12,\n",
       " 13,\n",
       " 14,\n",
       " 15,\n",
       " 16,\n",
       " 17,\n",
       " 18,\n",
       " 19,\n",
       " 20,\n",
       " 21,\n",
       " 22,\n",
       " 23,\n",
       " 24,\n",
       " 25,\n",
       " 26,\n",
       " 27,\n",
       " 28,\n",
       " 29)"
      ]
     },
     "execution_count": 86,
     "metadata": {},
     "output_type": "execute_result"
    }
   ],
   "source": [
    "num_tuple2 = tuple(numlist)\n",
    "num_tuple2"
   ]
  },
  {
   "cell_type": "code",
   "execution_count": 87,
   "metadata": {},
   "outputs": [
    {
     "name": "stdout",
     "output_type": "stream",
     "text": [
      "1\n",
      "3\n"
     ]
    }
   ],
   "source": [
    "a,b = (1,3)\n",
    "print(a)\n",
    "print(b)"
   ]
  },
  {
   "cell_type": "code",
   "execution_count": 90,
   "metadata": {},
   "outputs": [
    {
     "data": {
      "text/plain": [
       "3"
      ]
     },
     "execution_count": 90,
     "metadata": {},
     "output_type": "execute_result"
    }
   ],
   "source": [
    "num1,num2,num3 = [1,2,3]\n",
    "num3"
   ]
  },
  {
   "attachments": {},
   "cell_type": "markdown",
   "metadata": {},
   "source": [
    "## 10. Control Flow\n",
    "- ### IF"
   ]
  },
  {
   "cell_type": "code",
   "execution_count": null,
   "metadata": {},
   "outputs": [],
   "source": []
  },
  {
   "attachments": {},
   "cell_type": "markdown",
   "metadata": {},
   "source": [
    "- ### ELSE"
   ]
  },
  {
   "cell_type": "code",
   "execution_count": null,
   "metadata": {},
   "outputs": [],
   "source": []
  },
  {
   "attachments": {},
   "cell_type": "markdown",
   "metadata": {},
   "source": [
    "- ### ELIF"
   ]
  },
  {
   "cell_type": "code",
   "execution_count": null,
   "metadata": {},
   "outputs": [],
   "source": []
  },
  {
   "attachments": {},
   "cell_type": "markdown",
   "metadata": {},
   "source": [
    "- ### Shorthand If Else"
   ]
  },
  {
   "cell_type": "code",
   "execution_count": null,
   "metadata": {},
   "outputs": [],
   "source": []
  },
  {
   "attachments": {},
   "cell_type": "markdown",
   "metadata": {},
   "source": [
    "## 11. Loops\n",
    "- ### FOR loop"
   ]
  },
  {
   "cell_type": "code",
   "execution_count": null,
   "metadata": {},
   "outputs": [],
   "source": []
  },
  {
   "attachments": {},
   "cell_type": "markdown",
   "metadata": {},
   "source": [
    "- ### WHILE loop"
   ]
  },
  {
   "cell_type": "code",
   "execution_count": null,
   "metadata": {},
   "outputs": [],
   "source": []
  },
  {
   "attachments": {},
   "cell_type": "markdown",
   "metadata": {},
   "source": [
    "# Upcoming class\n",
    "- ## List Comprehension\n",
    "- ## Functions\n",
    "- ## Lambda Functions\n",
    "- ## OOPs concepts"
   ]
  }
 ],
 "metadata": {
  "kernelspec": {
   "display_name": "base",
   "language": "python",
   "name": "python3"
  },
  "language_info": {
   "codemirror_mode": {
    "name": "ipython",
    "version": 3
   },
   "file_extension": ".py",
   "mimetype": "text/x-python",
   "name": "python",
   "nbconvert_exporter": "python",
   "pygments_lexer": "ipython3",
   "version": "3.10.6"
  },
  "orig_nbformat": 4
 },
 "nbformat": 4,
 "nbformat_minor": 2
}
